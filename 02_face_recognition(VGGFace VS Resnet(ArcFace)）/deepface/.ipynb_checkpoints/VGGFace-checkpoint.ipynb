{
 "cells": [
  {
   "cell_type": "code",
   "execution_count": 1,
   "id": "cf1e669f",
   "metadata": {},
   "outputs": [],
   "source": [
    "from deepface.basemodels import VGGFace\n",
    "model = VGGFace.loadModel()\n",
    "input_shape = model.layers[0].input_shape[0][1:3]"
   ]
  },
  {
   "cell_type": "code",
   "execution_count": 2,
   "id": "ad66933a",
   "metadata": {},
   "outputs": [
    {
     "name": "stdout",
     "output_type": "stream",
     "text": [
      "model input shape:  []\n",
      "model output shape:  2622\n",
      "model input output ratio:  0.00038138825324180017\n"
     ]
    }
   ],
   "source": [
    "output_size = model.layers[-1].input_shape[-1]\n",
    "input_size = 1\n",
    "for i in model.layers[0].input_shape[1:]:\n",
    "    input_size = input_size * i\n",
    "    \n",
    "print(\"model input shape: \", model.layers[0].input_shape[1:])\n",
    "print(\"model output shape: \", output_size)\n",
    "print(\"model input output ratio: \", (input_size / output_size))"
   ]
  },
  {
   "cell_type": "code",
   "execution_count": null,
   "id": "6430d23e",
   "metadata": {},
   "outputs": [],
   "source": []
  }
 ],
 "metadata": {
  "kernelspec": {
   "display_name": "Python 3 (ipykernel)",
   "language": "python",
   "name": "python3"
  },
  "language_info": {
   "codemirror_mode": {
    "name": "ipython",
    "version": 3
   },
   "file_extension": ".py",
   "mimetype": "text/x-python",
   "name": "python",
   "nbconvert_exporter": "python",
   "pygments_lexer": "ipython3",
   "version": "3.9.13"
  }
 },
 "nbformat": 4,
 "nbformat_minor": 5
}
