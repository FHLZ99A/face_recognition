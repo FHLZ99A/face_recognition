{
 "cells": [
  {
   "cell_type": "code",
   "execution_count": null,
   "id": "2ee611e0",
   "metadata": {},
   "outputs": [],
   "source": [
    "from sklearn.datasets import fetch_lfw_pairs\n",
    "import matplotlib.pyplot as plt"
   ]
  },
  {
   "cell_type": "code",
   "execution_count": null,
   "id": "e72eb080",
   "metadata": {},
   "outputs": [],
   "source": [
    "lfw = fetch_lfw_pairs(subset='test', color=True, resize=1)"
   ]
  },
  {
   "cell_type": "code",
   "execution_count": null,
   "id": "b425690e",
   "metadata": {},
   "outputs": [],
   "source": [
    "pairs = lfw.pairs\n",
    "targets = lfw.target"
   ]
  },
  {
   "cell_type": "code",
   "execution_count": null,
   "id": "2df6f1dd",
   "metadata": {},
   "outputs": [],
   "source": [
    "pairs.shape"
   ]
  },
  {
   "cell_type": "code",
   "execution_count": null,
   "id": "50d75e27",
   "metadata": {},
   "outputs": [],
   "source": [
    "model = DeepFace.build_model(\"ArcFace\")"
   ]
  },
  {
   "cell_type": "code",
   "execution_count": null,
   "id": "340d3c81",
   "metadata": {},
   "outputs": [],
   "source": [
    "idx = 4\n",
    "pair = pairs[idx]\n",
    "img1 = pair[0]\n",
    "img2 = pair[1]\n",
    " \n",
    "plt.imshow(img1)\n",
    "plt.show()\n",
    "\n",
    "plt.imshow(img2)\n",
    "plt.show()\n",
    "    "
   ]
  },
  {
   "cell_type": "code",
   "execution_count": null,
   "id": "4516eab8",
   "metadata": {},
   "outputs": [],
   "source": [
    "pair.shape"
   ]
  },
  {
   "cell_type": "code",
   "execution_count": null,
   "id": "bff824dc",
   "metadata": {},
   "outputs": [],
   "source": [
    "img1"
   ]
  }
 ],
 "metadata": {
  "kernelspec": {
   "display_name": "Python 3 (ipykernel)",
   "language": "python",
   "name": "python3"
  },
  "language_info": {
   "codemirror_mode": {
    "name": "ipython",
    "version": 3
   },
   "file_extension": ".py",
   "mimetype": "text/x-python",
   "name": "python",
   "nbconvert_exporter": "python",
   "pygments_lexer": "ipython3",
   "version": "3.9.13"
  }
 },
 "nbformat": 4,
 "nbformat_minor": 5
}
