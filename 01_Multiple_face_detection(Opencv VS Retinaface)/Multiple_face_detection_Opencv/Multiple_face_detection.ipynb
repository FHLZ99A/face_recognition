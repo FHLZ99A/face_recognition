{
 "cells": [
  {
   "cell_type": "code",
   "execution_count": 1,
   "id": "19e7187e",
   "metadata": {},
   "outputs": [],
   "source": [
    "import cv2 as cv"
   ]
  },
  {
   "cell_type": "code",
   "execution_count": 2,
   "id": "8ba33723",
   "metadata": {},
   "outputs": [],
   "source": [
    "img = cv.imread('facefile/img.jpg')"
   ]
  },
  {
   "cell_type": "code",
   "execution_count": 3,
   "id": "2ffa407e",
   "metadata": {},
   "outputs": [],
   "source": [
    "#  指定图像大小\n",
    "img_resize = cv.resize(img, dsize = (700, 600))"
   ]
  },
  {
   "cell_type": "code",
   "execution_count": 4,
   "id": "81493ea7",
   "metadata": {},
   "outputs": [],
   "source": [
    "# 定义检测函数\n",
    "def test():\n",
    "    face_test = cv.CascadeClassifier('C:/Users/31517/AppData/Roaming/Python/Python39/site-packages/cv2/data/haarcascade_frontalface_alt2.xml')\n",
    "    # 检测倍数为1.01，检测次数为5，0为默认参数，检测范围：[100*100像素， 300*300像素]\n",
    "    face = face_test.detectMultiScale(img_resize, 1.05, 5, 0, (20, 20), (40, 40))\n",
    "    \n",
    "    for x,y,w,h in face:\n",
    "        cv.rectangle(img_resize, (x, y), (x+w, y+h), color = (0, 0, 255), thickness = 2)\n",
    "    cv.imshow('Members', img_resize)"
   ]
  },
  {
   "cell_type": "code",
   "execution_count": null,
   "id": "71b50104",
   "metadata": {},
   "outputs": [],
   "source": [
    "test()\n",
    "# 空格退出\n",
    "while True:\n",
    "    if ord(' ') == cv.waitKey(0):\n",
    "        break\n",
    "cv.destroyAllWindows()"
   ]
  },
  {
   "cell_type": "code",
   "execution_count": null,
   "id": "9c5b6ad3",
   "metadata": {},
   "outputs": [],
   "source": []
  }
 ],
 "metadata": {
  "kernelspec": {
   "display_name": "Python 3 (ipykernel)",
   "language": "python",
   "name": "python3"
  },
  "language_info": {
   "codemirror_mode": {
    "name": "ipython",
    "version": 3
   },
   "file_extension": ".py",
   "mimetype": "text/x-python",
   "name": "python",
   "nbconvert_exporter": "python",
   "pygments_lexer": "ipython3",
   "version": "3.9.13"
  }
 },
 "nbformat": 4,
 "nbformat_minor": 5
}
