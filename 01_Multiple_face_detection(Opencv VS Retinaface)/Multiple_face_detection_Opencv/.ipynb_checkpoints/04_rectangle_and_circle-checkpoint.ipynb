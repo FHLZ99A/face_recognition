{
 "cells": [
  {
   "cell_type": "code",
   "execution_count": 16,
   "id": "21b3d0ad",
   "metadata": {},
   "outputs": [],
   "source": [
    "import cv2 as cv"
   ]
  },
  {
   "cell_type": "code",
   "execution_count": 17,
   "id": "ddcafda2",
   "metadata": {},
   "outputs": [],
   "source": [
    "# 读取图像\n",
    "gray_img = cv.imread('facefile/gray_face1.jpeg')"
   ]
  },
  {
   "cell_type": "code",
   "execution_count": 18,
   "id": "9f40e923",
   "metadata": {},
   "outputs": [],
   "source": [
    "# 修改尺寸大小\n",
    "gray_resizeimg = cv.resize(gray_img, dsize = (400, 300)) # 宽高"
   ]
  },
  {
   "cell_type": "code",
   "execution_count": 19,
   "id": "070723be",
   "metadata": {},
   "outputs": [],
   "source": [
    "# 设置坐标\n",
    "x,y,w,h = (180, 100, 100, 100)"
   ]
  },
  {
   "cell_type": "code",
   "execution_count": 20,
   "id": "5029093a",
   "metadata": {},
   "outputs": [
    {
     "data": {
      "text/plain": [
       "array([[[ 74,  79,  95],\n",
       "        [ 71,  64,  46],\n",
       "        [ 67,  56,  48],\n",
       "        ...,\n",
       "        [ 78,  64,  46],\n",
       "        [ 83,  69,  51],\n",
       "        [ 81,  67,  49]],\n",
       "\n",
       "       [[112, 127, 146],\n",
       "        [ 73,  62,  51],\n",
       "        [ 67,  56,  48],\n",
       "        ...,\n",
       "        [ 76,  62,  44],\n",
       "        [ 80,  66,  48],\n",
       "        [ 79,  65,  47]],\n",
       "\n",
       "       [[138, 161, 183],\n",
       "        [ 76,  63,  56],\n",
       "        [ 73,  62,  54],\n",
       "        ...,\n",
       "        [ 79,  65,  47],\n",
       "        [ 78,  64,  46],\n",
       "        [ 77,  63,  45]],\n",
       "\n",
       "       ...,\n",
       "\n",
       "       [[178, 200, 212],\n",
       "        [177, 199, 211],\n",
       "        [177, 199, 211],\n",
       "        ...,\n",
       "        [ 44,  26,  19],\n",
       "        [ 45,  27,  20],\n",
       "        [ 45,  27,  20]],\n",
       "\n",
       "       [[186, 203, 216],\n",
       "        [184, 201, 214],\n",
       "        [184, 201, 214],\n",
       "        ...,\n",
       "        [ 44,  26,  19],\n",
       "        [ 45,  27,  20],\n",
       "        [ 45,  27,  20]],\n",
       "\n",
       "       [[184, 201, 214],\n",
       "        [184, 201, 214],\n",
       "        [184, 201, 214],\n",
       "        ...,\n",
       "        [ 30,  20,  13],\n",
       "        [ 32,  20,  14],\n",
       "        [ 33,  21,  15]]], dtype=uint8)"
      ]
     },
     "execution_count": 20,
     "metadata": {},
     "output_type": "execute_result"
    }
   ],
   "source": [
    "# 绘制矩形\n",
    "cv.rectangle(gray_resizeimg, (x, y), (x+w, y+h), color = (0, 0, 255), thickness = 1)"
   ]
  },
  {
   "cell_type": "code",
   "execution_count": 21,
   "id": "3b67cc92",
   "metadata": {},
   "outputs": [
    {
     "data": {
      "text/plain": [
       "array([[[ 74,  79,  95],\n",
       "        [ 71,  64,  46],\n",
       "        [ 67,  56,  48],\n",
       "        ...,\n",
       "        [ 78,  64,  46],\n",
       "        [ 83,  69,  51],\n",
       "        [ 81,  67,  49]],\n",
       "\n",
       "       [[112, 127, 146],\n",
       "        [ 73,  62,  51],\n",
       "        [ 67,  56,  48],\n",
       "        ...,\n",
       "        [ 76,  62,  44],\n",
       "        [ 80,  66,  48],\n",
       "        [ 79,  65,  47]],\n",
       "\n",
       "       [[138, 161, 183],\n",
       "        [ 76,  63,  56],\n",
       "        [ 73,  62,  54],\n",
       "        ...,\n",
       "        [ 79,  65,  47],\n",
       "        [ 78,  64,  46],\n",
       "        [ 77,  63,  45]],\n",
       "\n",
       "       ...,\n",
       "\n",
       "       [[178, 200, 212],\n",
       "        [177, 199, 211],\n",
       "        [177, 199, 211],\n",
       "        ...,\n",
       "        [ 44,  26,  19],\n",
       "        [ 45,  27,  20],\n",
       "        [ 45,  27,  20]],\n",
       "\n",
       "       [[186, 203, 216],\n",
       "        [184, 201, 214],\n",
       "        [184, 201, 214],\n",
       "        ...,\n",
       "        [ 44,  26,  19],\n",
       "        [ 45,  27,  20],\n",
       "        [ 45,  27,  20]],\n",
       "\n",
       "       [[184, 201, 214],\n",
       "        [184, 201, 214],\n",
       "        [184, 201, 214],\n",
       "        ...,\n",
       "        [ 30,  20,  13],\n",
       "        [ 32,  20,  14],\n",
       "        [ 33,  21,  15]]], dtype=uint8)"
      ]
     },
     "execution_count": 21,
     "metadata": {},
     "output_type": "execute_result"
    }
   ],
   "source": [
    "# 绘制圆形\n",
    "cv.circle(gray_resizeimg, center = (x+w//2, y+h//2), radius = 60, color = (255, 0, 0), thickness = 2)"
   ]
  },
  {
   "cell_type": "code",
   "execution_count": null,
   "id": "7253a990",
   "metadata": {},
   "outputs": [],
   "source": [
    "cv.imshow('resizeimg', gray_resizeimg)\n",
    "\n",
    "while True:\n",
    "    if ord(' ') == cv.waitKey(0):\n",
    "        break\n",
    "        \n",
    "cv.destroyAllWindows()"
   ]
  },
  {
   "cell_type": "code",
   "execution_count": null,
   "id": "01e87b2d",
   "metadata": {},
   "outputs": [],
   "source": []
  },
  {
   "cell_type": "code",
   "execution_count": null,
   "id": "28c879e1",
   "metadata": {},
   "outputs": [],
   "source": []
  }
 ],
 "metadata": {
  "kernelspec": {
   "display_name": "Python 3 (ipykernel)",
   "language": "python",
   "name": "python3"
  },
  "language_info": {
   "codemirror_mode": {
    "name": "ipython",
    "version": 3
   },
   "file_extension": ".py",
   "mimetype": "text/x-python",
   "name": "python",
   "nbconvert_exporter": "python",
   "pygments_lexer": "ipython3",
   "version": "3.9.13"
  }
 },
 "nbformat": 4,
 "nbformat_minor": 5
}
