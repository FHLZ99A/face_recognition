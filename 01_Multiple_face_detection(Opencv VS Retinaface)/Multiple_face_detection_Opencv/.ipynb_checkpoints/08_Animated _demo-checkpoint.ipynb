{
 "cells": [
  {
   "cell_type": "code",
   "execution_count": 1,
   "id": "41954619",
   "metadata": {},
   "outputs": [],
   "source": [
    "import cv2 as cv"
   ]
  },
  {
   "cell_type": "code",
   "execution_count": 2,
   "id": "4d63021b",
   "metadata": {},
   "outputs": [
    {
     "name": "stdout",
     "output_type": "stream",
     "text": [
      "第1张保存完毕!\n",
      "第2张保存完毕!\n",
      "第3张保存完毕!\n",
      "第4张保存完毕!\n",
      "第5张保存完毕!\n",
      "第6张保存完毕!\n",
      "第7张保存完毕!\n",
      "第8张保存完毕!\n"
     ]
    }
   ],
   "source": [
    "# 调用摄像头，参数0为默认摄像头，外接摄像头调整参数即可,一般为参数1\n",
    "cap = cv.VideoCapture(0)\n",
    "\n",
    "num = 1\n",
    "flag = 1  # 判断是否有图像\n",
    "# 检查摄像头是否为开启状态\n",
    "while(cap.isOpened()):\n",
    "    cap_flag, Vshow = cap.read() # 得到每帧图像\n",
    "    cv.imshow('testface', Vshow) # 显示图像\n",
    "    a = cv.waitKey(0)\n",
    "    if a == ord('s'): # 按下s进行保存\n",
    "        cv.imwrite('saveface/number/' +str(num) + '.jpg', Vshow)\n",
    "        print('第' + str(num) + '张保存完毕!')\n",
    "        num += 1\n",
    "    elif a == ord(' '): # 空格退出\n",
    "        break\n",
    "        \n",
    "# 释放摄像头\n",
    "cap.release()\n",
    "# 释放内存\n",
    "cv.destroyAllWindows()"
   ]
  },
  {
   "cell_type": "code",
   "execution_count": null,
   "id": "0fe5c134",
   "metadata": {},
   "outputs": [],
   "source": []
  }
 ],
 "metadata": {
  "kernelspec": {
   "display_name": "Python 3 (ipykernel)",
   "language": "python",
   "name": "python3"
  },
  "language_info": {
   "codemirror_mode": {
    "name": "ipython",
    "version": 3
   },
   "file_extension": ".py",
   "mimetype": "text/x-python",
   "name": "python",
   "nbconvert_exporter": "python",
   "pygments_lexer": "ipython3",
   "version": "3.9.13"
  }
 },
 "nbformat": 4,
 "nbformat_minor": 5
}
