{
 "cells": [
  {
   "cell_type": "code",
   "execution_count": 1,
   "id": "49ea448b",
   "metadata": {},
   "outputs": [],
   "source": [
    "#导入模块\n",
    "import cv2\n",
    "import os\n",
    "import urllib\n",
    "import urllib.request"
   ]
  },
  {
   "cell_type": "code",
   "execution_count": 2,
   "id": "33ddd2d5",
   "metadata": {},
   "outputs": [],
   "source": [
    "#加载训练数据集文件\n",
    "recogizer = cv2.face.LBPHFaceRecognizer_create()\n",
    "recogizer.read('./trainer.yml')\n",
    "names = []\n",
    "warningtime = 0"
   ]
  },
  {
   "cell_type": "code",
   "execution_count": 3,
   "id": "f37fbd26",
   "metadata": {},
   "outputs": [],
   "source": [
    "def md5(str):\n",
    "    import hashlib\n",
    "    m = hashlib.md5()\n",
    "    m.update(str.encode(\"utf8\"))\n",
    "    return m.hexdigest()"
   ]
  },
  {
   "cell_type": "code",
   "execution_count": 4,
   "id": "9d7ad606",
   "metadata": {},
   "outputs": [],
   "source": [
    "statusStr = {\n",
    "    '0': '短信发送成功',\n",
    "    '-1': '参数不全',\n",
    "    '-2': '服务器空间不支持，请确认支持curl或者fsocket，联系您的服务商解决或者更换空间',\n",
    "    '30': '密码错误',\n",
    "    '40': '账号不存在',\n",
    "    '41': '余额不足',\n",
    "    '42': '账户已过期',\n",
    "    '43': 'IP地址限制',\n",
    "    '50': '内容含有敏感词'\n",
    "}"
   ]
  },
  {
   "cell_type": "code",
   "execution_count": 5,
   "id": "6113cace",
   "metadata": {},
   "outputs": [],
   "source": [
    "def warning():\n",
    "    smsapi = \"http://api.smsbao.com\"\n",
    "    # 短信平台账号\n",
    "    user = '15******91'\n",
    "    # 短信平台密码\n",
    "    password = md5('*******')\n",
    "    # 要发送的短信内容\n",
    "    content = '【报警】\\n原因：检测到未知人员\\n地点：xxx'\n",
    "    # 要发送短信的手机号码\n",
    "    phone = '*******'\n",
    "    \n",
    "    data = urllib.parse.urlencode({'u': user, 'p': password, 'm': phone, 'c': content})\n",
    "    send_url = smsapi + 'sms?' + data\n",
    "    response = urllib.request.urlopen(send_url)\n",
    "    the_page = response.read().decode('utf-8')\n",
    "    print(statusStr[the_page])"
   ]
  },
  {
   "cell_type": "code",
   "execution_count": 9,
   "id": "c74f4156",
   "metadata": {},
   "outputs": [],
   "source": [
    "# 准备识别的图片\n",
    "def face_detector_demo(img):\n",
    "    gray = cv2.cvtColor(img, cv2.COLOR_BGR2GRAY) #转换为灰度\n",
    "    face_detector = cv2.CascadeClassifier(\n",
    "        'C:/Users/31517/AppData/Roaming/Python/Python39/site-packages/cv2/data/haarcascade_frontalface_alt2.xml')\n",
    "    face = face_detector.detectMultiScale(gray, 1.1, 5, cv2.CASCADE_SCALE_IMAGE, (100, 100), (600,600))\n",
    "    \n",
    "    for x,y,w,h in face:\n",
    "        cv2.rectangle(img, (x,y), (x + w, y + h), color = (0,0,255), thickness = 2)\n",
    "        cv2.circle(img, center = (x + w//2, y + h//2), radius = w//2, color = (0, 255, 0), thickness = 1)\n",
    "        #人脸识别\n",
    "        ids, confidence = recogizer.predict(gray[y:y+h, x:x+w])\n",
    "        # print('标签id：', ids, '置信评分：', confidence)\n",
    "        \n",
    "        if confidence > 80:\n",
    "            global warningtime\n",
    "            warningtime += 1\n",
    "            if warningtime > 100:\n",
    "                warningtime()\n",
    "                warningtime = 0\n",
    "            cv2.putText(img, 'unknow', (x + 10, y - 10), cv2.FONT_HERSHEY_SIMPLEX, 0.75, (0, 255, 0), 1)\n",
    "        else:\n",
    "            cv2.putText(img, 'me', (x + 10, y - 10), cv2.FONT_HERSHEY_SIMPLEX, 0.75, (0, 255, 0), 1)\n",
    "        cv2.imshow('result', img)\n",
    "        # print('bug:', ids)\n",
    "            "
   ]
  },
  {
   "cell_type": "code",
   "execution_count": 10,
   "id": "7c587319",
   "metadata": {},
   "outputs": [],
   "source": [
    "def name():\n",
    "    path = './data/'\n",
    "    # names = []\n",
    "    imagePaths = [os.path.join(path, f) for f in os.listdir(path)]\n",
    "    for imagePath in imagePaths:\n",
    "        name = str(os.path.split(imagePath)[1].split('.', 2)[1])\n",
    "        names.append(name)"
   ]
  },
  {
   "cell_type": "code",
   "execution_count": 11,
   "id": "90c34711",
   "metadata": {},
   "outputs": [],
   "source": [
    "cap = cv2.VideoCapture('2.mp4')\n",
    "name()\n",
    "while True:\n",
    "    flag, frame = cap.read()\n",
    "    if not flag: \n",
    "        break\n",
    "    face_detector_demo(frame)\n",
    "    if ord(' ') == cv2.waitKey(10):\n",
    "        break\n",
    "cv2.destroyAllWindows()\n",
    "cap.release()"
   ]
  },
  {
   "cell_type": "code",
   "execution_count": null,
   "id": "bf4139b8",
   "metadata": {},
   "outputs": [],
   "source": []
  },
  {
   "cell_type": "code",
   "execution_count": null,
   "id": "493725bc",
   "metadata": {},
   "outputs": [],
   "source": []
  }
 ],
 "metadata": {
  "kernelspec": {
   "display_name": "Python 3 (ipykernel)",
   "language": "python",
   "name": "python3"
  },
  "language_info": {
   "codemirror_mode": {
    "name": "ipython",
    "version": 3
   },
   "file_extension": ".py",
   "mimetype": "text/x-python",
   "name": "python",
   "nbconvert_exporter": "python",
   "pygments_lexer": "ipython3",
   "version": "3.9.13"
  }
 },
 "nbformat": 4,
 "nbformat_minor": 5
}
